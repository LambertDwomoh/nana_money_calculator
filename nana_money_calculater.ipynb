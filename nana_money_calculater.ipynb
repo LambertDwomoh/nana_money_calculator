{
 "cells": [
  {
   "cell_type": "code",
   "execution_count": 1,
   "metadata": {},
   "outputs": [
    {
     "name": "stdout",
     "output_type": "stream",
     "text": [
      "Please enter your name\n",
      "Teller name: lo\n",
      "You are welcome  lo\n",
      "Please enter client name\n",
      "Client_name: lk\n",
      "client lk is ready to atttend to\n",
      "\n",
      "Task Initiated\n",
      "2020-05-17 22:23:16.193941\n",
      "Do you prefer to logout: yes\n",
      "\n",
      "task completed\n",
      "\n",
      "2020-05-17 22:23:18.170475\n",
      "\n",
      "Total time =  0.0 hrs\n",
      "Amount to be paid = $ 0.0\n"
     ]
    }
   ],
   "source": [
    "import datetime\n",
    "import time\n",
    "print('Please enter your name')\n",
    "name = input('Teller name: ')\n",
    "print ('You are welcome  '+ name)\n",
    "print('Please enter client name')\n",
    "client_name = input('Client_name: ')\n",
    "print ('client '+ client_name  + ' is ready to atttend to')\n",
    "print()\n",
    "print('Task Initiated')\n",
    "start=datetime.datetime.now()\n",
    "print(start)\n",
    "yes = ['yes']\n",
    "no = ['no']\n",
    "logout = input('Do you prefer to logout: ')\n",
    "print()\n",
    "if logout in yes:\n",
    "    print('task completed')\n",
    "    stop=datetime.datetime.now()\n",
    "    print()\n",
    "    print(stop)\n",
    "    print()\n",
    "    sM = start.month\n",
    "    sd = start.day\n",
    "    sY = start.year\n",
    "    sm = start.minute\n",
    "    sh = start.hour\n",
    "    stm = stop.minute\n",
    "    sth = stop.hour\n",
    "    stM = stop.month\n",
    "    stY = stop.year\n",
    "    std = stop.day\n",
    "    total = round((((std*1440)+(stM*43200)+(stY*518400)+(sth)+(stm/60))-((sY*518400)+(sM*43200)+(sd*1440)+(sh)+(sm/60))),2)\n",
    "    total_1 = round((total*5),2)\n",
    "    print('Total time = ' , total,'hrs')\n",
    "    print('Amount to be paid = $', total_1)\n",
    "    \n",
    "\n",
    "elif logout in no:\n",
    "    print('Continue with task')\n",
    "else:\n",
    "    print('no option entered')\n",
    "    print('Please logout first')\n",
    "    \n",
    "import pandas as pd\n",
    "l=[start,stop]\n",
    "k= ['start time','stop time']\n",
    "df= pd.DataFrame([k,l])\n",
    "\n",
    "f = open('customer.csv','a')\n",
    "f.write(str(df))\n",
    "f.close()\n",
    "    \n",
    "\n",
    "    "
   ]
  }
 ],
 "metadata": {
  "kernelspec": {
   "display_name": "Python 3",
   "language": "python",
   "name": "python3"
  },
  "language_info": {
   "codemirror_mode": {
    "name": "ipython",
    "version": 3
   },
   "file_extension": ".py",
   "mimetype": "text/x-python",
   "name": "python",
   "nbconvert_exporter": "python",
   "pygments_lexer": "ipython3",
   "version": "3.7.3"
  }
 },
 "nbformat": 4,
 "nbformat_minor": 2
}
